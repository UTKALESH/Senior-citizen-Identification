{
 "cells": [
  {
   "cell_type": "code",
   "execution_count": null,
   "id": "7547b544",
   "metadata": {},
   "outputs": [],
   "source": [
    "import os\n",
    "import numpy as np\n",
    "import tensorflow as tf\n",
    "from tensorflow.keras.preprocessing.image import ImageDataGenerator\n",
    "from tensorflow.keras.models import Sequential\n",
    "from tensorflow.keras.layers import Conv2D, MaxPooling2D, Flatten, Dense, Dropout, BatchNormalization, Input, Activation\n",
    "from tensorflow.keras.optimizers import Adam\n",
    "from tensorflow.keras.callbacks import EarlyStopping, ReduceLROnPlateau\n",
    "from sklearn.metrics import classification_report, confusion_matrix\n",
    "import matplotlib.pyplot as plt\n",
    "import warnings"
   ]
  },
  {
   "cell_type": "code",
   "execution_count": null,
   "id": "c2ba6f01",
   "metadata": {},
   "outputs": [],
   "source": [
    "warnings.filterwarnings('ignore')"
   ]
  },
  {
   "cell_type": "code",
   "execution_count": null,
   "id": "7e18d5b1",
   "metadata": {},
   "outputs": [],
   "source": [
    "IMAGE_SIZE = (96, 96)\n",
    "BATCH_SIZE = 64\n",
    "EPOCHS = 50"
   ]
  },
  {
   "cell_type": "code",
   "execution_count": null,
   "id": "fbdd22f7",
   "metadata": {},
   "outputs": [],
   "source": [
    "BASE_DATA_DIR = 'dataset/age_gender_dataset'"
   ]
  },
  {
   "cell_type": "code",
   "execution_count": null,
   "id": "7814b902",
   "metadata": {},
   "outputs": [],
   "source": [
    "MODEL_SAVE_DIR = 'saved_age_gender_models'\n",
    "os.makedirs(MODEL_SAVE_DIR, exist_ok=True)"
   ]
  },
  {
   "cell_type": "code",
   "execution_count": null,
   "id": "58f29dee",
   "metadata": {},
   "outputs": [],
   "source": [
    "AGE_MODEL_PATH = os.path.join(MODEL_SAVE_DIR, 'age_group_model.h5')\n",
    "GENDER_MODEL_PATH = os.path.join(MODEL_SAVE_DIR, 'gender_model.h5')"
   ]
  },
  {
   "cell_type": "code",
   "execution_count": null,
   "id": "748041e4",
   "metadata": {},
   "outputs": [],
   "source": [
    "AGE_BINS = [0, 18, 30, 45, 60, 120] \n",
    "AGE_LABELS = ['0-18', '19-30', '31-45', '46-60', '61+']\n",
    "NUM_AGE_CLASSES = len(AGE_LABELS)"
   ]
  },
  {
   "cell_type": "code",
   "execution_count": null,
   "id": "61d26e53",
   "metadata": {},
   "outputs": [],
   "source": [
    "GENDER_LABELS = ['Male', 'Female'] \n",
    "NUM_GENDER_CLASSES = len(GENDER_LABELS)"
   ]
  },
  {
   "cell_type": "code",
   "execution_count": null,
   "id": "40f2d46d",
   "metadata": {},
   "outputs": [],
   "source": [
    "def load_data_from_directory(data_dir):\n",
    "    image_paths = []\n",
    "    ages = []\n",
    "    genders = []\n",
    "    print(f\"Scanning directory: {data_dir}\")\n",
    "    if not os.path.isdir(data_dir):\n",
    "        print(f\"Error: Directory not found: {data_dir}\")\n",
    "        return [], [], []"
   ]
  },
  {
   "cell_type": "code",
   "execution_count": null,
   "id": "3d5f1316",
   "metadata": {},
   "outputs": [],
   "source": [
    "valid_extensions = ('.jpg', '.jpeg', '.png', '.bmp')\n",
    "    count = 0\n",
    "    for filename in os.listdir(data_dir):\n",
    "        if filename.lower().endswith(valid_extensions):\n",
    "            try:\n",
    "                parts = filename.split('_')\n",
    "                if len(parts) >= 3:\n",
    "                    age = int(parts[0])\n",
    "                    gender = int(parts[1]) \n",
    "                    if age < 0 or age > 116 or gender not in [0, 1]:\n",
    "                         continue"
   ]
  },
  {
   "cell_type": "code",
   "execution_count": null,
   "id": "b89c0c60",
   "metadata": {},
   "outputs": [],
   "source": [
    "image_paths.append(os.path.join(data_dir, filename))\n",
    "                    ages.append(age)\n",
    "                    genders.append(gender)\n",
    "                    count += 1\n",
    "               \n",
    "            except ValueError:\n",
    "               \n",
    "                continue\n",
    "            except Exception as e:\n",
    "                print(f\"Error processing file {filename}: {e}\")\n",
    "    print(f\"Found {count} valid images.\")\n",
    "    if count == 0:\n",
    "         print(\"Error: No valid images found. Check directory path and file naming.\")\n",
    "    return image_paths, ages, genders"
   ]
  },
  {
   "cell_type": "code",
   "execution_count": null,
   "id": "8f4b744b",
   "metadata": {},
   "outputs": [],
   "source": [
    "image_paths, ages_raw, genders_raw = load_data_from_directory(BASE_DATA_DIR)"
   ]
  },
  {
   "cell_type": "code",
   "execution_count": null,
   "id": "ee5a2652",
   "metadata": {},
   "outputs": [],
   "source": [
    "if not image_paths:\n",
    "    print(\"!!! CRITICAL ERROR: No image data loaded. Exiting training script.\")\n",
    "    print(f\"!!! Please ensure the directory '{BASE_DATA_DIR}' exists and contains correctly named images (e.g., 'age_gender_...jpg').\")\n",
    "    exit()"
   ]
  },
  {
   "cell_type": "code",
   "execution_count": null,
   "id": "3aad9737",
   "metadata": {},
   "outputs": [],
   "source": [
    "age_groups = np.digitize(ages_raw, bins=AGE_BINS[1:], right=True)"
   ]
  },
  {
   "cell_type": "code",
   "execution_count": null,
   "id": "9b9b145b",
   "metadata": {},
   "outputs": [],
   "source": [
    "age_groups_onehot = tf.keras.utils.to_categorical(age_groups, num_classes=NUM_AGE_CLASSES)"
   ]
  },
  {
   "cell_type": "code",
   "execution_count": null,
   "id": "9473f733",
   "metadata": {},
   "outputs": [],
   "source": [
    "genders_np = np.array(genders_raw)"
   ]
  },
  {
   "cell_type": "code",
   "execution_count": null,
   "id": "c63916ca",
   "metadata": {},
   "outputs": [],
   "source": [
    "from sklearn.model_selection import train_test_split"
   ]
  },
  {
   "cell_type": "code",
   "execution_count": null,
   "id": "3cbd199b",
   "metadata": {},
   "outputs": [],
   "source": [
    "X_train_paths, X_val_paths, \\\n",
    "y_age_train, y_age_val, \\\n",
    "y_gender_train, y_gender_val = train_test_split(\n",
    "    image_paths, age_groups_onehot, genders_np,\n",
    "    test_size=0.2, random_state=42, stratify=genders_np \n",
    ")"
   ]
  },
  {
   "cell_type": "code",
   "execution_count": null,
   "id": "70aebd8b",
   "metadata": {},
   "outputs": [],
   "source": [
    "print(f\"Training samples: {len(X_train_paths)}, Validation samples: {len(X_val_paths)}\")"
   ]
  },
  {
   "cell_type": "code",
   "execution_count": null,
   "id": "8b030786",
   "metadata": {},
   "outputs": [],
   "source": [
    "class CustomDataGenerator(tf.keras.utils.Sequence):\n",
    "    def __init__(self, image_paths, age_labels, gender_labels, batch_size, target_size, shuffle=True):\n",
    "        self.image_paths = image_paths\n",
    "        self.age_labels = age_labels\n",
    "        self.gender_labels = gender_labels\n",
    "        self.batch_size = batch_size\n",
    "        self.target_size = target_size\n",
    "        self.shuffle = shuffle\n",
    "        self.indexes = np.arange(len(self.image_paths))\n",
    "        if self.shuffle:\n",
    "            np.random.shuffle(self.indexes)"
   ]
  },
  {
   "cell_type": "code",
   "execution_count": null,
   "id": "b225b255",
   "metadata": {},
   "outputs": [],
   "source": [
    "def __len__(self):\n",
    "        return int(np.floor(len(self.image_paths) / self.batch_size))"
   ]
  },
  {
   "cell_type": "code",
   "execution_count": null,
   "id": "6b9adb39",
   "metadata": {},
   "outputs": [],
   "source": [
    "def __getitem__(self, index):\n",
    "        batch_indexes = self.indexes[index*self.batch_size:(index+1)*self.batch_size]\n",
    "        batch_paths = [self.image_paths[i] for i in batch_indexes]"
   ]
  },
  {
   "cell_type": "code",
   "execution_count": null,
   "id": "5350fe87",
   "metadata": {},
   "outputs": [],
   "source": [
    "X = np.empty((self.batch_size, *self.target_size, 3)) \n",
    "        y_age = np.empty((self.batch_size, NUM_AGE_CLASSES), dtype=int)\n",
    "        y_gender = np.empty((self.batch_size, 1), dtype=int)"
   ]
  },
  {
   "cell_type": "code",
   "execution_count": null,
   "id": "665208ac",
   "metadata": {},
   "outputs": [],
   "source": [
    "for i, path in enumerate(batch_paths):\n",
    "            try:\n",
    "                img = tf.keras.preprocessing.image.load_img(path, target_size=self.target_size)\n",
    "                img_array = tf.keras.preprocessing.image.img_to_array(img)\n",
    "                img_array /= 255.0 \n",
    "                X[i,] = img_array\n",
    "                y_age[i,] = self.age_labels[batch_indexes[i]]\n",
    "                y_gender[i,] = self.gender_labels[batch_indexes[i]]\n",
    "            except Exception as e:\n",
    "                 print(f\"Warning: Error loading image {path}, skipping: {e}\")\n",
    "              \n",
    "                 X[i,] = np.zeros((*self.target_size, 3)) \n",
    "               \n",
    "                 y_age[i,] = tf.keras.utils.to_categorical(0, num_classes=NUM_AGE_CLASSES)\n",
    "                 y_gender[i,] = 0"
   ]
  },
  {
   "cell_type": "code",
   "execution_count": null,
   "id": "59db00c7",
   "metadata": {},
   "outputs": [],
   "source": [
    "return X, {'age_output': y_age, 'gender_output': y_gender}"
   ]
  },
  {
   "cell_type": "code",
   "execution_count": null,
   "id": "8d44b034",
   "metadata": {},
   "outputs": [],
   "source": [
    "def on_epoch_end(self):\n",
    "        if self.shuffle:\n",
    "            np.random.shuffle(self.indexes)"
   ]
  },
  {
   "cell_type": "code",
   "execution_count": null,
   "id": "9137e1e9",
   "metadata": {},
   "outputs": [],
   "source": [
    "train_generator = CustomDataGenerator(X_train_paths, y_age_train, y_gender_train, BATCH_SIZE, IMAGE_SIZE)\n",
    "validation_generator = CustomDataGenerator(X_val_paths, y_age_val, y_gender_val, BATCH_SIZE, IMAGE_SIZE, shuffle=False)"
   ]
  },
  {
   "cell_type": "code",
   "execution_count": null,
   "id": "bbdd63e8",
   "metadata": {},
   "outputs": [],
   "source": [
    "def build_combined_model(input_shape, num_age_classes):\n",
    "    inputs = Input(shape=input_shape)"
   ]
  },
  {
   "cell_type": "code",
   "execution_count": null,
   "id": "5aa04eba",
   "metadata": {},
   "outputs": [],
   "source": [
    "x = Conv2D(32, (3, 3), padding='same')(inputs)\n",
    "    x = BatchNormalization()(x)\n",
    "    x = Activation('relu')(x)\n",
    "    x = MaxPooling2D(pool_size=(2, 2))(x)"
   ]
  },
  {
   "cell_type": "code",
   "execution_count": null,
   "id": "ed7bc323",
   "metadata": {},
   "outputs": [],
   "source": [
    "x = Conv2D(64, (3, 3), padding='same')(x)\n",
    "    x = BatchNormalization()(x)\n",
    "    x = Activation('relu')(x)\n",
    "    x = MaxPooling2D(pool_size=(2, 2))(x)"
   ]
  },
  {
   "cell_type": "code",
   "execution_count": null,
   "id": "102dcaa9",
   "metadata": {},
   "outputs": [],
   "source": [
    "x = Conv2D(128, (3, 3), padding='same')(x)\n",
    "    x = BatchNormalization()(x)\n",
    "    x = Activation('relu')(x)\n",
    "    x = MaxPooling2D(pool_size=(2, 2))(x)"
   ]
  },
  {
   "cell_type": "code",
   "execution_count": null,
   "id": "a89b695d",
   "metadata": {},
   "outputs": [],
   "source": [
    "x = Flatten()(x)\n",
    "    x = Dense(128)(x)\n",
    "    x = BatchNormalization()(x)\n",
    "    x = Activation('relu')(x)\n",
    "    x = Dropout(0.5)(x)"
   ]
  },
  {
   "cell_type": "code",
   "execution_count": null,
   "id": "ca896f92",
   "metadata": {},
   "outputs": [],
   "source": [
    "age_output = Dense(num_age_classes, activation='softmax', name='age_output')(x)"
   ]
  },
  {
   "cell_type": "code",
   "execution_count": null,
   "id": "11ab1f23",
   "metadata": {},
   "outputs": [],
   "source": [
    "gender_output = Dense(1, activation='sigmoid', name='gender_output')(x)"
   ]
  },
  {
   "cell_type": "code",
   "execution_count": null,
   "id": "076c75b9",
   "metadata": {},
   "outputs": [],
   "source": [
    "model = tf.keras.models.Model(inputs=inputs, outputs=[age_output, gender_output], name=\"AgeGenderModel\")"
   ]
  },
  {
   "cell_type": "code",
   "execution_count": null,
   "id": "9b7c13f9",
   "metadata": {},
   "outputs": [],
   "source": [
    "model.compile(optimizer=Adam(learning_rate=0.001),\n",
    "                  loss={'age_output': 'categorical_crossentropy', 'gender_output': 'binary_crossentropy'},\n",
    "                  metrics={'age_output': 'accuracy', 'gender_output': 'accuracy'},\n",
    "                  loss_weights={'age_output': 1.0, 'gender_output': 1.0}) \n",
    "    return model"
   ]
  },
  {
   "cell_type": "code",
   "execution_count": null,
   "id": "ffd314a6",
   "metadata": {},
   "outputs": [],
   "source": [
    "input_shape = IMAGE_SIZE + (3,)\n",
    "model = build_combined_model(input_shape, NUM_AGE_CLASSES)\n",
    "print(model.summary())"
   ]
  },
  {
   "cell_type": "code",
   "execution_count": null,
   "id": "7a4dded3",
   "metadata": {},
   "outputs": [],
   "source": [
    "early_stopping = EarlyStopping(monitor='val_loss', patience=8, restore_best_weights=True, verbose=1)\n",
    "reduce_lr = ReduceLROnPlateau(monitor='val_loss', factor=0.2, patience=4, min_lr=0.00001, verbose=1)"
   ]
  },
  {
   "cell_type": "code",
   "execution_count": null,
   "id": "9b68b08d",
   "metadata": {},
   "outputs": [],
   "source": [
    "print(\"\\n--- Starting Model Training ---\")\n",
    "history = model.fit(\n",
    "    train_generator,\n",
    "    epochs=EPOCHS,\n",
    "    validation_data=validation_generator,\n",
    "    callbacks=[early_stopping, reduce_lr],\n",
    "    verbose=1\n",
    ")"
   ]
  },
  {
   "cell_type": "code",
   "execution_count": null,
   "id": "0e9093af",
   "metadata": {},
   "outputs": [],
   "source": [
    "print(\"\\n--- Evaluating Model Performance ---\")"
   ]
  },
  {
   "cell_type": "code",
   "execution_count": null,
   "id": "4fd7060b",
   "metadata": {},
   "outputs": [],
   "source": [
    "eval_results = model.evaluate(validation_generator)"
   ]
  },
  {
   "cell_type": "code",
   "execution_count": null,
   "id": "41c0150e",
   "metadata": {},
   "outputs": [],
   "source": [
    "print(f\"\\nValidation Loss (Total): {eval_results[0]:.4f}\")\n",
    "print(f\"Validation Loss (Age): {eval_results[1]:.4f}\")\n",
    "print(f\"Validation Loss (Gender): {eval_results[2]:.4f}\")\n",
    "print(f\"Validation Accuracy (Age): {eval_results[3]:.4f}\")\n",
    "print(f\"Validation Accuracy (Gender): {eval_results[4]:.4f}\")"
   ]
  },
  {
   "cell_type": "code",
   "execution_count": null,
   "id": "a20d69b4",
   "metadata": {},
   "outputs": [],
   "source": [
    "min_accuracy = 0.70\n",
    "age_acc_ok = eval_results[3] >= min_accuracy\n",
    "gender_acc_ok = eval_results[4] >= min_accuracy"
   ]
  },
  {
   "cell_type": "code",
   "execution_count": null,
   "id": "aab18d11",
   "metadata": {},
   "outputs": [],
   "source": [
    "if age_acc_ok:\n",
    "    print(f\"Age model meets the {min_accuracy*100}% accuracy target.\")\n",
    "else:\n",
    "    print(f\"WARNING: Age model accuracy ({eval_results[3]:.4f}) is BELOW the {min_accuracy*100}% target!\")"
   ]
  },
  {
   "cell_type": "code",
   "execution_count": null,
   "id": "055e37b7",
   "metadata": {},
   "outputs": [],
   "source": [
    "if gender_acc_ok:\n",
    "    print(f\"Gender model meets the {min_accuracy*100}% accuracy target.\")\n",
    "else:\n",
    "    print(f\"WARNING: Gender model accuracy ({eval_results[4]:.4f}) is BELOW the {min_accuracy*100}% target!\")"
   ]
  },
  {
   "cell_type": "code",
   "execution_count": null,
   "id": "9bb99599",
   "metadata": {},
   "outputs": [],
   "source": [
    "print(\"\\nGenerating detailed reports (this may take a moment)...\")\n",
    "num_val_samples = len(X_val_paths)"
   ]
  },
  {
   "cell_type": "code",
   "execution_count": null,
   "id": "89c1e384",
   "metadata": {},
   "outputs": [],
   "source": [
    "pred_generator = CustomDataGenerator(X_val_paths, y_age_val, y_gender_val, BATCH_SIZE, IMAGE_SIZE, shuffle=False)"
   ]
  },
  {
   "cell_type": "code",
   "execution_count": null,
   "id": "351002fc",
   "metadata": {},
   "outputs": [],
   "source": [
    "predictions = model.predict(pred_generator, steps=len(pred_generator))\n",
    "age_preds_prob = predictions[0]\n",
    "gender_preds_prob = predictions[1]"
   ]
  },
  {
   "cell_type": "code",
   "execution_count": null,
   "id": "341a4bc9",
   "metadata": {},
   "outputs": [],
   "source": [
    "true_ages = []\n",
    "true_genders = []\n",
    "for i in range(len(pred_generator)):\n",
    "     _, labels_dict = pred_generator[i]\n",
    "     true_ages.extend(np.argmax(labels_dict['age_output'], axis=1))\n",
    "     true_genders.extend(labels_dict['gender_output'].flatten())"
   ]
  },
  {
   "cell_type": "code",
   "execution_count": null,
   "id": "a9de8cb2",
   "metadata": {},
   "outputs": [],
   "source": [
    "age_preds_classes = np.argmax(age_preds_prob, axis=1)\n",
    "gender_preds_classes = (gender_preds_prob > 0.5).astype(int).flatten()"
   ]
  },
  {
   "cell_type": "code",
   "execution_count": null,
   "id": "289373c2",
   "metadata": {},
   "outputs": [],
   "source": [
    "num_preds = len(age_preds_classes)\n",
    "true_ages = true_ages[:num_preds]\n",
    "true_genders = true_genders[:num_preds]"
   ]
  },
  {
   "cell_type": "code",
   "execution_count": null,
   "id": "dd474bb8",
   "metadata": {},
   "outputs": [],
   "source": [
    "print(\"\\n--- Age Classification Report ---\")\n",
    "print(classification_report(true_ages, age_preds_classes, target_names=AGE_LABELS, zero_division=0))\n",
    "print(\"Age Confusion Matrix:\")\n",
    "print(confusion_matrix(true_ages, age_preds_classes))"
   ]
  },
  {
   "cell_type": "code",
   "execution_count": null,
   "id": "2f9d8936",
   "metadata": {},
   "outputs": [],
   "source": [
    "print(\"\\n--- Gender Classification Report ---\")\n",
    "print(classification_report(true_genders, gender_preds_classes, target_names=GENDER_LABELS, zero_division=0))\n",
    "print(\"Gender Confusion Matrix:\")\n",
    "print(confusion_matrix(true_genders, gender_preds_classes))"
   ]
  },
  {
   "cell_type": "code",
   "execution_count": null,
   "id": "40e910a1",
   "metadata": {},
   "outputs": [],
   "source": [
    "print(f\"\\nSaving combined model to {AGE_MODEL_PATH} (contains both age and gender)...\")"
   ]
  },
  {
   "cell_type": "code",
   "execution_count": null,
   "id": "01e071f9",
   "metadata": {},
   "outputs": [],
   "source": [
    "model.save(AGE_MODEL_PATH)\n",
    "print(\"Model saved successfully.\")"
   ]
  },
  {
   "cell_type": "code",
   "execution_count": null,
   "id": "38034511",
   "metadata": {},
   "outputs": [],
   "source": [
    "print(\"\\n--- Training Script Finished ---\")\n",
    "print(\"!!! IMPORTANT: Ensure the data loading section was correctly adapted for your dataset !!!\")"
   ]
  }
 ],
 "metadata": {},
 "nbformat": 4,
 "nbformat_minor": 5
}
